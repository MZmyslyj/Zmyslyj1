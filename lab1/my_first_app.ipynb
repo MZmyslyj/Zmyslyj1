{
 "cells": [
  {
   "cell_type": "code",
   "execution_count": 1,
   "metadata": {},
   "outputs": [
    {
     "name": "stdout",
     "output_type": "stream",
     "text": [
      "Marian start programming at 2022-11-07 17:44:27.096293\n"
     ]
    }
   ],
   "source": [
    "from datetime import datetime\n",
    "name = \"Marian\"\n",
    "\n",
    "print(f\"{name} start programming at {datetime.now()}\")"
   ]
  }
 ],
 "metadata": {
  "kernelspec": {
   "display_name": "Python 3.10.8 64-bit (microsoft store)",
   "language": "python",
   "name": "python3"
  },
  "language_info": {
   "codemirror_mode": {
    "name": "ipython",
    "version": 3
   },
   "file_extension": ".py",
   "mimetype": "text/x-python",
   "name": "python",
   "nbconvert_exporter": "python",
   "pygments_lexer": "ipython3",
   "version": "3.10.8"
  },
  "orig_nbformat": 4,
  "vscode": {
   "interpreter": {
    "hash": "ad37de404474888f3d7742cda30d624bcc59931f550a8c7e80ac0454be4571dc"
   }
  }
 },
 "nbformat": 4,
 "nbformat_minor": 2
}
